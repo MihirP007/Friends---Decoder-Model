{
  "cells": [
    {
      "cell_type": "code",
      "execution_count": 46,
      "id": "ad970944",
      "metadata": {
        "id": "ad970944"
      },
      "outputs": [],
      "source": [
        "import pandas as pd\n",
        "import tensorflow as tf\n",
        "from tensorflow import keras"
      ]
    },
    {
      "cell_type": "code",
      "execution_count": 47,
      "id": "973eee93",
      "metadata": {
        "colab": {
          "base_uri": "https://localhost:8080/"
        },
        "id": "973eee93",
        "outputId": "d77cc7cd-2e8e-4eea-a07e-6272f09eddb2"
      },
      "outputs": [
        {
          "output_type": "stream",
          "name": "stdout",
          "text": [
            "       Name                                              Lines\n",
            "0    Monica  There's nothing to tell! He's just some guy I ...\n",
            "1      Joey  C'mon, you're going out with the guy! There's ...\n",
            "2  Chandler  All right Joey, be nice. So does he have a hum...\n",
            "3    Phoebe                           Wait, does he eat chalk?\n",
            "4    Phoebe  Just, 'cause, I don't want her to go through w...\n",
            "Name     0\n",
            "Lines    0\n",
            "dtype: int64\n"
          ]
        }
      ],
      "source": [
        "script = pd.read_csv('/content/Friends_script.csv').dropna()\n",
        "print(script.head())\n",
        "print(script.isnull().sum())"
      ]
    },
    {
      "cell_type": "code",
      "execution_count": 48,
      "id": "cc3bfe48",
      "metadata": {
        "colab": {
          "base_uri": "https://localhost:8080/"
        },
        "id": "cc3bfe48",
        "outputId": "f2debe31-5f0b-4edb-ee5f-2493f312468e"
      },
      "outputs": [
        {
          "output_type": "stream",
          "name": "stdout",
          "text": [
            "[101, 1247, 112, 188, 1720, 1106, 1587, 106, 1124, 112, 188, 1198, 1199, 2564, 146, 1250, 1114, 106, 102]\n"
          ]
        }
      ],
      "source": [
        "from tokenizers import Tokenizer\n",
        "\n",
        "tokenizer = Tokenizer.from_pretrained(\"bert-base-cased\")\n",
        "def tokenize(script):\n",
        "    print(tokenizer.encode(script['Lines']).ids)\n",
        "tokenize(script.loc[0])"
      ]
    },
    {
      "cell_type": "code",
      "execution_count": 49,
      "id": "0ddf2c77",
      "metadata": {
        "colab": {
          "base_uri": "https://localhost:8080/"
        },
        "id": "0ddf2c77",
        "outputId": "3d2afcc8-cb22-4ac0-cf76-b8499d19f4d8"
      },
      "outputs": [
        {
          "output_type": "stream",
          "name": "stdout",
          "text": [
            "Vocabulary size: 28996\n",
            "Tokens for 'Hi I am Ross.': ['Hi', 'I', 'am', 'Ross', '.']\n",
            "Decoded tokens: Hi I am Ross.\n"
          ]
        }
      ],
      "source": [
        "vocab = tokenizer.get_vocab()\n",
        "def sentence_to_token(sentence):\n",
        "    return tokenizer.encode(sentence, add_special_tokens=False)\n",
        "def token_to_sentence(tokens):\n",
        "    return tokenizer.decode(tokens, skip_special_tokens=True)\n",
        "\n",
        "\n",
        "print(\"Vocabulary size:\", len(vocab))\n",
        "\n",
        "text = \"Hi I am Ross.\"\n",
        "encoded = sentence_to_token(text)\n",
        "decoded = token_to_sentence(encoded.ids)\n",
        "\n",
        "print(f\"Tokens for '{text}':\", encoded.tokens)\n",
        "print(\"Decoded tokens:\", decoded)"
      ]
    },
    {
      "cell_type": "code",
      "execution_count": 50,
      "id": "e2d9fa9c",
      "metadata": {
        "id": "e2d9fa9c"
      },
      "outputs": [],
      "source": [
        "@tf.keras.utils.register_keras_serializable()\n",
        "class CombinedEmbedding(tf.keras.layers.Layer):\n",
        "    def __init__(self, vocab_size, num_characters,  max_seq_len, embedding_dim, **kwargs):\n",
        "        super().__init__(**kwargs)\n",
        "        self.vocab_size = vocab_size\n",
        "        self.num_characters = num_characters\n",
        "        self.max_seq_len = max_seq_len\n",
        "        self.embedding_dim = embedding_dim\n",
        "\n",
        "        self.token_embedding = tf.keras.layers.Embedding(vocab_size, embedding_dim)\n",
        "        self.speaker_embedding = tf.keras.layers.Embedding(num_characters, embedding_dim)\n",
        "        self.position_embedding = tf.keras.layers.Embedding(max_seq_len, embedding_dim)\n",
        "\n",
        "    def call(self, token_ids, speaker_ids):\n",
        "        seq_len = tf.shape(token_ids)[1]\n",
        "        batch_size = tf.shape(token_ids)[0]\n",
        "\n",
        "        token_embed = self.token_embedding(token_ids)\n",
        "\n",
        "        speaker_embed = self.speaker_embedding(speaker_ids)\n",
        "        speaker_embed = tf.expand_dims(speaker_embed, axis=1)\n",
        "        speaker_embed = tf.tile(speaker_embed, [1, seq_len, 1])\n",
        "\n",
        "        positions = tf.range(start=0, limit=seq_len, delta=1)\n",
        "        position_embed = self.position_embedding(positions)\n",
        "        position_embed = tf.expand_dims(position_embed, axis=0)\n",
        "        position_embed = tf.tile(position_embed, [batch_size, 1, 1])\n",
        "\n",
        "        return token_embed + speaker_embed + position_embed\n",
        "\n",
        "    def get_config(self):\n",
        "        config = super().get_config()\n",
        "        config.update({\n",
        "            'vocab_size': self.vocab_size,\n",
        "            'num_characters': self.num_characters,\n",
        "            'max_seq_len': self.max_seq_len,\n",
        "            'embedding_dim': self.embedding_dim,\n",
        "        })\n",
        "        return config"
      ]
    },
    {
      "cell_type": "code",
      "execution_count": 51,
      "id": "320b5efe",
      "metadata": {
        "id": "320b5efe"
      },
      "outputs": [],
      "source": [
        "unique_speakers = sorted(set(script['Name']))"
      ]
    },
    {
      "cell_type": "code",
      "execution_count": 52,
      "id": "ff7123f6",
      "metadata": {
        "id": "ff7123f6"
      },
      "outputs": [],
      "source": [
        "from tensorflow.keras.preprocessing.sequence import pad_sequences\n",
        "\n",
        "speaker_to_index = {name: i for i, name in enumerate(unique_speakers)}\n",
        "tokenized_lines = []\n",
        "speaker_indices = []\n",
        "max_seq = 0\n",
        "\n",
        "for i in range(len(script)):\n",
        "    line = script['Lines'].iloc[i]\n",
        "    name = script['Name'].iloc[i]\n",
        "    line_encode = sentence_to_token(line).ids\n",
        "    tokenized_lines.append(line_encode)\n",
        "    if name in speaker_to_index:\n",
        "        speaker_idx = speaker_to_index[name]\n",
        "        speaker_indices.append(speaker_idx)\n",
        "    else:\n",
        "        speaker_indices.append(0)\n",
        "    max_seq = max(len(line_encode), max_seq)\n",
        "\n",
        "token_ids_padded = pad_sequences(tokenized_lines, maxlen=max_seq, padding='post')\n",
        "\n",
        "token_ids_tensor = tf.constant(token_ids_padded, dtype=tf.int32)\n",
        "speaker_ids_tensor = tf.constant(speaker_indices, dtype=tf.int32)"
      ]
    },
    {
      "cell_type": "code",
      "execution_count": 53,
      "id": "a05cf763",
      "metadata": {
        "colab": {
          "base_uri": "https://localhost:8080/"
        },
        "id": "a05cf763",
        "outputId": "f091b20d-9ab6-4cb9-9b44-814e21d7905a"
      },
      "outputs": [
        {
          "output_type": "execute_result",
          "data": {
            "text/plain": [
              "270"
            ]
          },
          "metadata": {},
          "execution_count": 53
        }
      ],
      "source": [
        "max_seq"
      ]
    },
    {
      "cell_type": "code",
      "source": [
        "token_ids_padded[0]"
      ],
      "metadata": {
        "colab": {
          "base_uri": "https://localhost:8080/"
        },
        "id": "vInGjk79WFLw",
        "outputId": "4ebdaec3-b69c-4d31-eeec-56bbe993b316"
      },
      "id": "vInGjk79WFLw",
      "execution_count": 54,
      "outputs": [
        {
          "output_type": "execute_result",
          "data": {
            "text/plain": [
              "array([1247,  112,  188, 1720, 1106, 1587,  106, 1124,  112,  188, 1198,\n",
              "       1199, 2564,  146, 1250, 1114,  106,    0,    0,    0,    0,    0,\n",
              "          0,    0,    0,    0,    0,    0,    0,    0,    0,    0,    0,\n",
              "          0,    0,    0,    0,    0,    0,    0,    0,    0,    0,    0,\n",
              "          0,    0,    0,    0,    0,    0,    0,    0,    0,    0,    0,\n",
              "          0,    0,    0,    0,    0,    0,    0,    0,    0,    0,    0,\n",
              "          0,    0,    0,    0,    0,    0,    0,    0,    0,    0,    0,\n",
              "          0,    0,    0,    0,    0,    0,    0,    0,    0,    0,    0,\n",
              "          0,    0,    0,    0,    0,    0,    0,    0,    0,    0,    0,\n",
              "          0,    0,    0,    0,    0,    0,    0,    0,    0,    0,    0,\n",
              "          0,    0,    0,    0,    0,    0,    0,    0,    0,    0,    0,\n",
              "          0,    0,    0,    0,    0,    0,    0,    0,    0,    0,    0,\n",
              "          0,    0,    0,    0,    0,    0,    0,    0,    0,    0,    0,\n",
              "          0,    0,    0,    0,    0,    0,    0,    0,    0,    0,    0,\n",
              "          0,    0,    0,    0,    0,    0,    0,    0,    0,    0,    0,\n",
              "          0,    0,    0,    0,    0,    0,    0,    0,    0,    0,    0,\n",
              "          0,    0,    0,    0,    0,    0,    0,    0,    0,    0,    0,\n",
              "          0,    0,    0,    0,    0,    0,    0,    0,    0,    0,    0,\n",
              "          0,    0,    0,    0,    0,    0,    0,    0,    0,    0,    0,\n",
              "          0,    0,    0,    0,    0,    0,    0,    0,    0,    0,    0,\n",
              "          0,    0,    0,    0,    0,    0,    0,    0,    0,    0,    0,\n",
              "          0,    0,    0,    0,    0,    0,    0,    0,    0,    0,    0,\n",
              "          0,    0,    0,    0,    0,    0,    0,    0,    0,    0,    0,\n",
              "          0,    0,    0,    0,    0,    0,    0,    0,    0,    0,    0,\n",
              "          0,    0,    0,    0,    0,    0], dtype=int32)"
            ]
          },
          "metadata": {},
          "execution_count": 54
        }
      ]
    },
    {
      "cell_type": "code",
      "source": [
        "def create_padding_mask(seq):\n",
        "    seq = tf.cast(tf.math.equal(seq,0), tf.int32) # Use \"<pad>\" index\n",
        "    # Add extra dimensions to add the padding to the attention logits.\n",
        "    return seq[:, tf.newaxis, tf.newaxis, :]  # (batch_size, 1, 1, seq_len)"
      ],
      "metadata": {
        "id": "WceA9ZfjnE6R"
      },
      "id": "WceA9ZfjnE6R",
      "execution_count": 55,
      "outputs": []
    },
    {
      "cell_type": "code",
      "execution_count": 56,
      "id": "8390e363",
      "metadata": {
        "colab": {
          "base_uri": "https://localhost:8080/"
        },
        "id": "8390e363",
        "outputId": "19ea9297-7875-4417-9e5f-7b94a0c40241"
      },
      "outputs": [
        {
          "output_type": "execute_result",
          "data": {
            "text/plain": [
              "<tf.Tensor: shape=(1,), dtype=int32, numpy=array([55267], dtype=int32)>"
            ]
          },
          "metadata": {},
          "execution_count": 56
        }
      ],
      "source": [
        "tf.shape(token_ids_tensor)\n",
        "tf.shape(speaker_ids_tensor)"
      ]
    },
    {
      "cell_type": "code",
      "source": [
        "# emb = CombinedEmbedding(len(vocab),len(unique_speakers),246,256)\n",
        "# output = emb(token_ids_tensor, speaker_ids_tensor)"
      ],
      "metadata": {
        "id": "b98czV30o0or"
      },
      "id": "b98czV30o0or",
      "execution_count": 57,
      "outputs": []
    },
    {
      "cell_type": "code",
      "source": [
        "@tf.keras.utils.register_keras_serializable()\n",
        "class DecoderBlock(tf.keras.layers.Layer):\n",
        "    def __init__(self, MHA_num_heads, emb_dim, ff_dim, dropout_rate=0.1, **kwargs):\n",
        "        super().__init__(**kwargs)\n",
        "        self.MHA_num_heads = MHA_num_heads\n",
        "        self.emb_dim = emb_dim\n",
        "        self.ff_dim = ff_dim\n",
        "        self.dropout_rate = dropout_rate\n",
        "\n",
        "        self.MHA = tf.keras.layers.MultiHeadAttention(\n",
        "            num_heads=MHA_num_heads,\n",
        "            key_dim=emb_dim // MHA_num_heads,\n",
        "            output_shape=emb_dim\n",
        "        )\n",
        "        self.ff = tf.keras.Sequential([\n",
        "            tf.keras.layers.Dense(ff_dim, activation='relu'),\n",
        "            tf.keras.layers.Dense(emb_dim)\n",
        "        ])\n",
        "        self.layernom1 = tf.keras.layers.LayerNormalization(epsilon=1e-6)\n",
        "        self.layernom2 = tf.keras.layers.LayerNormalization(epsilon=1e-6)\n",
        "        self.dropout1 = tf.keras.layers.Dropout(dropout_rate)\n",
        "        self.dropout2 = tf.keras.layers.Dropout(dropout_rate)\n",
        "\n",
        "    def call(self, x, training, attention_mask=None):\n",
        "        tf.debugging.assert_shapes([(x, ['batch', 'seq', 'emb_dim'])], message=\"Input shape to DecoderBlock is incorrect\")\n",
        "\n",
        "        attention_output = self.MHA(query=x, value=x, key=x, attention_mask=attention_mask, training=training)\n",
        "        attention_output = self.dropout1(attention_output, training=training)\n",
        "        out1 = self.layernom1(x + attention_output)\n",
        "\n",
        "        ff_output = self.ff(out1)\n",
        "        ff_output = self.dropout2(ff_output, training=training)\n",
        "        out2 = self.layernom2(out1 + ff_output)\n",
        "\n",
        "        return out2\n",
        "\n",
        "    def get_config(self):\n",
        "        config = super().get_config()\n",
        "        config.update({\n",
        "            'MHA_num_heads': self.MHA_num_heads,\n",
        "            'emb_dim': self.emb_dim,\n",
        "            'ff_dim': self.ff_dim,\n",
        "            'dropout_rate': self.dropout_rate,\n",
        "        })\n",
        "        return config\n",
        "\n",
        "\n",
        "@tf.keras.utils.register_keras_serializable()\n",
        "class DecoderTransformer(tf.keras.Model):\n",
        "    def __init__(self, vocab_size, num_characters, max_seq, embedding_dim, MHA_num_heads, ff_dim, num_decoder_blocks, dropout_rate=0.1, **kwargs):\n",
        "        super().__init__(**kwargs)\n",
        "        self.vocab_size = vocab_size\n",
        "        self.num_characters = num_characters\n",
        "        self.max_seq = max_seq\n",
        "        self.embedding_dim = embedding_dim\n",
        "        self.MHA_num_heads = MHA_num_heads\n",
        "        self.ff_dim = ff_dim\n",
        "        self.num_decoder_blocks = num_decoder_blocks\n",
        "        self.dropout_rate = dropout_rate\n",
        "\n",
        "        self.embedding = CombinedEmbedding(vocab_size, num_characters, max_seq, embedding_dim)\n",
        "        self.decoder_blocks = [DecoderBlock(MHA_num_heads, embedding_dim, ff_dim, dropout_rate) for _ in range(num_decoder_blocks)]\n",
        "        self.final_dense = tf.keras.layers.Dense(vocab_size)\n",
        "\n",
        "    def call(self, token_ids_tensor, speaker_ids_tensor, attention_mask=None, training=None):\n",
        "        x = self.embedding(token_ids_tensor, speaker_ids_tensor)\n",
        "        tf.debugging.assert_shapes([(x, ['batch', 'seq', 'emb_dim'])], message=\"Shape after embedding is incorrect\")\n",
        "\n",
        "        for i, decoder_block in enumerate(self.decoder_blocks):\n",
        "            x = decoder_block(x, training=training, attention_mask=attention_mask)\n",
        "            tf.debugging.assert_shapes([(x, ['batch', 'seq', 'emb_dim'])], message=f\"Shape after decoder block {i} is incorrect\")\n",
        "\n",
        "        logits = self.final_dense(x)\n",
        "        return logits\n",
        "\n",
        "    def get_config(self):\n",
        "        config = super().get_config()\n",
        "        config.update({\n",
        "            'vocab_size': self.vocab_size,\n",
        "            'num_characters': self.num_characters,\n",
        "            'max_seq': self.max_seq,\n",
        "            'embedding_dim': self.embedding_dim,\n",
        "            'MHA_num_heads': self.MHA_num_heads,\n",
        "            'ff_dim': self.ff_dim,\n",
        "            'num_decoder_blocks': self.num_decoder_blocks,\n",
        "            'dropout_rate': self.dropout_rate,\n",
        "        })\n",
        "        return config"
      ],
      "metadata": {
        "id": "bGwvH46E8FTe"
      },
      "id": "bGwvH46E8FTe",
      "execution_count": 58,
      "outputs": []
    },
    {
      "cell_type": "code",
      "source": [
        "from tensorflow.keras.optimizers import Adam\n",
        "from sklearn.model_selection import train_test_split\n",
        "import numpy as np\n",
        "\n",
        "batch_size = 16\n",
        "\n",
        "train_token_ids, val_token_ids, train_speaker_ids, val_speaker_ids = train_test_split(\n",
        "    token_ids_tensor.numpy(), speaker_ids_tensor.numpy(), test_size=0.1, random_state=42\n",
        ")\n",
        "\n",
        "train_dataset = tf.data.Dataset.from_tensor_slices((train_token_ids, train_speaker_ids)).shuffle(10000).batch(batch_size)\n",
        "val_dataset = tf.data.Dataset.from_tensor_slices((val_token_ids, val_speaker_ids)).batch(batch_size)\n",
        "\n",
        "lr_schedule = tf.keras.optimizers.schedules.ExponentialDecay(\n",
        "    initial_learning_rate=1e-3,\n",
        "    decay_steps=1000,\n",
        "    decay_rate=0.95\n",
        ")\n",
        "optimizer = Adam(learning_rate=lr_schedule)\n",
        "\n",
        "model = DecoderTransformer(\n",
        "    vocab_size=len(vocab),\n",
        "    num_characters=len(unique_speakers),\n",
        "    max_seq=max_seq,\n",
        "    embedding_dim=256,\n",
        "    MHA_num_heads=8,\n",
        "    ff_dim=1024,\n",
        "    num_decoder_blocks=3,\n",
        "    dropout_rate=0.1\n",
        ")\n",
        "\n",
        "loss_fn = tf.keras.losses.SparseCategoricalCrossentropy(from_logits=True)"
      ],
      "metadata": {
        "id": "aM3fT4cLl4Q6"
      },
      "id": "aM3fT4cLl4Q6",
      "execution_count": 59,
      "outputs": []
    },
    {
      "cell_type": "code",
      "source": [
        "num_epochs = 5\n",
        "best_val_loss = float('inf')\n",
        "patience_counter = 0\n",
        "\n",
        "for epoch in range(num_epochs):\n",
        "    print(f\"\\nEpoch {epoch+1}/{num_epochs}\")\n",
        "    total_train_loss = []\n",
        "\n",
        "    for step, (batch_token_ids, batch_speaker_ids) in enumerate(train_dataset):\n",
        "        with tf.GradientTape() as tape:\n",
        "            input_ids = batch_token_ids[:, :-1]\n",
        "            target_ids = batch_token_ids[:, 1:]\n",
        "            mask = create_padding_mask(input_ids)\n",
        "\n",
        "            logits = model(input_ids, batch_speaker_ids, attention_mask=mask, training=True)\n",
        "            loss = loss_fn(target_ids, logits)\n",
        "\n",
        "        grads = tape.gradient(loss, model.trainable_variables)\n",
        "        optimizer.apply_gradients(zip(grads, model.trainable_variables))\n",
        "        total_train_loss.append(loss.numpy())\n",
        "\n",
        "        if step % 100 == 0:\n",
        "            print(f\"Step {step}, Loss: {loss.numpy():.4f}\")\n",
        "\n",
        "\n",
        "    total_val_loss = []\n",
        "    for val_tokens, val_speakers in val_dataset:\n",
        "        input_ids = val_tokens[:, :-1]\n",
        "        target_ids = val_tokens[:, 1:]\n",
        "        mask = create_padding_mask(input_ids)\n",
        "\n",
        "        val_logits = model(input_ids, val_speakers, attention_mask=mask, training=False)\n",
        "        val_loss = loss_fn(target_ids, val_logits)\n",
        "        total_val_loss.append(val_loss.numpy())\n",
        "\n",
        "    avg_train_loss = np.mean(total_train_loss)\n",
        "    avg_val_loss = np.mean(total_val_loss)\n",
        "\n",
        "    print(f\"Train Loss: {avg_train_loss:.4f} | Val Loss: {avg_val_loss:.4f}\")\n",
        "\n",
        "\n",
        "    if avg_val_loss < best_val_loss:\n",
        "        best_val_loss = avg_val_loss\n",
        "        patience_counter = 0\n",
        "        model.save_weights(\"best_model_weights.h5\")\n",
        "        print(\"Saved best model weights.\")\n",
        "    else:\n",
        "        patience_counter += 1\n",
        "        if patience_counter >= 2:\n",
        "            print(\"Early stopping triggered.\")\n",
        "            break"
      ],
      "metadata": {
        "colab": {
          "base_uri": "https://localhost:8080/",
          "height": 891
        },
        "id": "cvGiRax9muI9",
        "outputId": "07da5f5e-c7af-4bb6-c39a-17818f6a2353"
      },
      "id": "cvGiRax9muI9",
      "execution_count": 60,
      "outputs": [
        {
          "output_type": "stream",
          "name": "stdout",
          "text": [
            "\n",
            "Epoch 1/5\n",
            "Step 0, Loss: 10.2969\n",
            "Step 100, Loss: 0.2104\n",
            "Step 200, Loss: 0.4081\n",
            "Step 300, Loss: 0.1899\n",
            "Step 400, Loss: 0.2715\n",
            "Step 500, Loss: 0.2112\n",
            "Step 600, Loss: 0.2668\n",
            "Step 700, Loss: 0.2560\n",
            "Step 800, Loss: 0.2480\n",
            "Step 900, Loss: 0.1477\n",
            "Step 1000, Loss: 0.2477\n",
            "Step 1100, Loss: 0.2470\n",
            "Step 1200, Loss: 0.2165\n",
            "Step 1300, Loss: 0.3155\n",
            "Step 1400, Loss: 0.2399\n",
            "Step 1500, Loss: 0.2420\n",
            "Step 1600, Loss: 0.1391\n",
            "Step 1700, Loss: 0.2807\n",
            "Step 1800, Loss: 0.2698\n",
            "Step 1900, Loss: 0.2526\n",
            "Step 2000, Loss: 0.2546\n"
          ]
        },
        {
          "output_type": "error",
          "ename": "KeyboardInterrupt",
          "evalue": "",
          "traceback": [
            "\u001b[0;31m---------------------------------------------------------------------------\u001b[0m",
            "\u001b[0;31mKeyboardInterrupt\u001b[0m                         Traceback (most recent call last)",
            "    \u001b[0;31m[... skipping hidden 1 frame]\u001b[0m\n",
            "\u001b[0;32m<ipython-input-60-382771730>\u001b[0m in \u001b[0;36m<cell line: 0>\u001b[0;34m()\u001b[0m\n\u001b[1;32m     15\u001b[0m             \u001b[0mlogits\u001b[0m \u001b[0;34m=\u001b[0m \u001b[0mmodel\u001b[0m\u001b[0;34m(\u001b[0m\u001b[0minput_ids\u001b[0m\u001b[0;34m,\u001b[0m \u001b[0mbatch_speaker_ids\u001b[0m\u001b[0;34m,\u001b[0m \u001b[0mattention_mask\u001b[0m\u001b[0;34m=\u001b[0m\u001b[0mmask\u001b[0m\u001b[0;34m,\u001b[0m \u001b[0mtraining\u001b[0m\u001b[0;34m=\u001b[0m\u001b[0;32mTrue\u001b[0m\u001b[0;34m)\u001b[0m\u001b[0;34m\u001b[0m\u001b[0;34m\u001b[0m\u001b[0m\n\u001b[0;32m---> 16\u001b[0;31m             \u001b[0mloss\u001b[0m \u001b[0;34m=\u001b[0m \u001b[0mloss_fn\u001b[0m\u001b[0;34m(\u001b[0m\u001b[0mtarget_ids\u001b[0m\u001b[0;34m,\u001b[0m \u001b[0mlogits\u001b[0m\u001b[0;34m)\u001b[0m\u001b[0;34m\u001b[0m\u001b[0;34m\u001b[0m\u001b[0m\n\u001b[0m\u001b[1;32m     17\u001b[0m \u001b[0;34m\u001b[0m\u001b[0m\n",
            "\u001b[0;32m/usr/local/lib/python3.11/dist-packages/keras/src/losses/loss.py\u001b[0m in \u001b[0;36m__call__\u001b[0;34m(self, y_true, y_pred, sample_weight)\u001b[0m\n\u001b[1;32m     78\u001b[0m \u001b[0;34m\u001b[0m\u001b[0m\n\u001b[0;32m---> 79\u001b[0;31m             return reduce_weighted_values(\n\u001b[0m\u001b[1;32m     80\u001b[0m                 \u001b[0mlosses\u001b[0m\u001b[0;34m,\u001b[0m\u001b[0;34m\u001b[0m\u001b[0;34m\u001b[0m\u001b[0m\n",
            "\u001b[0;32m/usr/local/lib/python3.11/dist-packages/keras/src/losses/loss.py\u001b[0m in \u001b[0;36mreduce_weighted_values\u001b[0;34m(values, sample_weight, mask, reduction, dtype)\u001b[0m\n\u001b[1;32m    192\u001b[0m     \u001b[0;31m# Apply reduction function to the individual weighted losses.\u001b[0m\u001b[0;34m\u001b[0m\u001b[0;34m\u001b[0m\u001b[0m\n\u001b[0;32m--> 193\u001b[0;31m     \u001b[0mloss\u001b[0m \u001b[0;34m=\u001b[0m \u001b[0mreduce_values\u001b[0m\u001b[0;34m(\u001b[0m\u001b[0mvalues\u001b[0m\u001b[0;34m,\u001b[0m \u001b[0msample_weight\u001b[0m\u001b[0;34m,\u001b[0m \u001b[0mreduction\u001b[0m\u001b[0;34m)\u001b[0m\u001b[0;34m\u001b[0m\u001b[0;34m\u001b[0m\u001b[0m\n\u001b[0m\u001b[1;32m    194\u001b[0m     \u001b[0;32mreturn\u001b[0m \u001b[0mloss\u001b[0m\u001b[0;34m\u001b[0m\u001b[0;34m\u001b[0m\u001b[0m\n",
            "\u001b[0;32m/usr/local/lib/python3.11/dist-packages/keras/src/losses/loss.py\u001b[0m in \u001b[0;36mreduce_values\u001b[0;34m(values, sample_weight, reduction)\u001b[0m\n\u001b[1;32m    153\u001b[0m             divisor = ops.cast(\n\u001b[0;32m--> 154\u001b[0;31m                 ops.prod(\n\u001b[0m\u001b[1;32m    155\u001b[0m                     \u001b[0mops\u001b[0m\u001b[0;34m.\u001b[0m\u001b[0mconvert_to_tensor\u001b[0m\u001b[0;34m(\u001b[0m\u001b[0mops\u001b[0m\u001b[0;34m.\u001b[0m\u001b[0mshape\u001b[0m\u001b[0;34m(\u001b[0m\u001b[0mvalues\u001b[0m\u001b[0;34m)\u001b[0m\u001b[0;34m,\u001b[0m \u001b[0mdtype\u001b[0m\u001b[0;34m=\u001b[0m\u001b[0;34m\"int32\"\u001b[0m\u001b[0;34m)\u001b[0m\u001b[0;34m\u001b[0m\u001b[0;34m\u001b[0m\u001b[0m\n",
            "\u001b[0;32m/usr/local/lib/python3.11/dist-packages/keras/src/ops/numpy.py\u001b[0m in \u001b[0;36mprod\u001b[0;34m(x, axis, keepdims, dtype)\u001b[0m\n\u001b[1;32m   4560\u001b[0m         \u001b[0;32mreturn\u001b[0m \u001b[0mProd\u001b[0m\u001b[0;34m(\u001b[0m\u001b[0maxis\u001b[0m\u001b[0;34m=\u001b[0m\u001b[0maxis\u001b[0m\u001b[0;34m,\u001b[0m \u001b[0mkeepdims\u001b[0m\u001b[0;34m=\u001b[0m\u001b[0mkeepdims\u001b[0m\u001b[0;34m,\u001b[0m \u001b[0mdtype\u001b[0m\u001b[0;34m=\u001b[0m\u001b[0mdtype\u001b[0m\u001b[0;34m)\u001b[0m\u001b[0;34m.\u001b[0m\u001b[0msymbolic_call\u001b[0m\u001b[0;34m(\u001b[0m\u001b[0mx\u001b[0m\u001b[0;34m)\u001b[0m\u001b[0;34m\u001b[0m\u001b[0;34m\u001b[0m\u001b[0m\n\u001b[0;32m-> 4561\u001b[0;31m     \u001b[0;32mreturn\u001b[0m \u001b[0mbackend\u001b[0m\u001b[0;34m.\u001b[0m\u001b[0mnumpy\u001b[0m\u001b[0;34m.\u001b[0m\u001b[0mprod\u001b[0m\u001b[0;34m(\u001b[0m\u001b[0mx\u001b[0m\u001b[0;34m,\u001b[0m \u001b[0maxis\u001b[0m\u001b[0;34m=\u001b[0m\u001b[0maxis\u001b[0m\u001b[0;34m,\u001b[0m \u001b[0mkeepdims\u001b[0m\u001b[0;34m=\u001b[0m\u001b[0mkeepdims\u001b[0m\u001b[0;34m,\u001b[0m \u001b[0mdtype\u001b[0m\u001b[0;34m=\u001b[0m\u001b[0mdtype\u001b[0m\u001b[0;34m)\u001b[0m\u001b[0;34m\u001b[0m\u001b[0;34m\u001b[0m\u001b[0m\n\u001b[0m\u001b[1;32m   4562\u001b[0m \u001b[0;34m\u001b[0m\u001b[0m\n",
            "\u001b[0;32m/usr/local/lib/python3.11/dist-packages/keras/src/backend/tensorflow/numpy.py\u001b[0m in \u001b[0;36mprod\u001b[0;34m(x, axis, keepdims, dtype)\u001b[0m\n\u001b[1;32m   1732\u001b[0m         \u001b[0mx\u001b[0m \u001b[0;34m=\u001b[0m \u001b[0mtf\u001b[0m\u001b[0;34m.\u001b[0m\u001b[0mcast\u001b[0m\u001b[0;34m(\u001b[0m\u001b[0mx\u001b[0m\u001b[0;34m,\u001b[0m \u001b[0mdtype\u001b[0m\u001b[0;34m)\u001b[0m\u001b[0;34m\u001b[0m\u001b[0;34m\u001b[0m\u001b[0m\n\u001b[0;32m-> 1733\u001b[0;31m     \u001b[0;32mreturn\u001b[0m \u001b[0mtf\u001b[0m\u001b[0;34m.\u001b[0m\u001b[0mreduce_prod\u001b[0m\u001b[0;34m(\u001b[0m\u001b[0mx\u001b[0m\u001b[0;34m,\u001b[0m \u001b[0maxis\u001b[0m\u001b[0;34m=\u001b[0m\u001b[0maxis\u001b[0m\u001b[0;34m,\u001b[0m \u001b[0mkeepdims\u001b[0m\u001b[0;34m=\u001b[0m\u001b[0mkeepdims\u001b[0m\u001b[0;34m)\u001b[0m\u001b[0;34m\u001b[0m\u001b[0;34m\u001b[0m\u001b[0m\n\u001b[0m\u001b[1;32m   1734\u001b[0m \u001b[0;34m\u001b[0m\u001b[0m\n",
            "\u001b[0;32m/usr/local/lib/python3.11/dist-packages/tensorflow/python/ops/weak_tensor_ops.py\u001b[0m in \u001b[0;36mwrapper\u001b[0;34m(*args, **kwargs)\u001b[0m\n\u001b[1;32m     87\u001b[0m     \u001b[0;32mif\u001b[0m \u001b[0;32mnot\u001b[0m \u001b[0mops\u001b[0m\u001b[0;34m.\u001b[0m\u001b[0mis_auto_dtype_conversion_enabled\u001b[0m\u001b[0;34m(\u001b[0m\u001b[0;34m)\u001b[0m\u001b[0;34m:\u001b[0m\u001b[0;34m\u001b[0m\u001b[0;34m\u001b[0m\u001b[0m\n\u001b[0;32m---> 88\u001b[0;31m       \u001b[0;32mreturn\u001b[0m \u001b[0mop\u001b[0m\u001b[0;34m(\u001b[0m\u001b[0;34m*\u001b[0m\u001b[0margs\u001b[0m\u001b[0;34m,\u001b[0m \u001b[0;34m**\u001b[0m\u001b[0mkwargs\u001b[0m\u001b[0;34m)\u001b[0m\u001b[0;34m\u001b[0m\u001b[0;34m\u001b[0m\u001b[0m\n\u001b[0m\u001b[1;32m     89\u001b[0m     \u001b[0mbound_arguments\u001b[0m \u001b[0;34m=\u001b[0m \u001b[0msignature\u001b[0m\u001b[0;34m.\u001b[0m\u001b[0mbind\u001b[0m\u001b[0;34m(\u001b[0m\u001b[0;34m*\u001b[0m\u001b[0margs\u001b[0m\u001b[0;34m,\u001b[0m \u001b[0;34m**\u001b[0m\u001b[0mkwargs\u001b[0m\u001b[0;34m)\u001b[0m\u001b[0;34m\u001b[0m\u001b[0;34m\u001b[0m\u001b[0m\n",
            "\u001b[0;32m/usr/local/lib/python3.11/dist-packages/tensorflow/python/util/traceback_utils.py\u001b[0m in \u001b[0;36merror_handler\u001b[0;34m(*args, **kwargs)\u001b[0m\n\u001b[1;32m    149\u001b[0m     \u001b[0;32mtry\u001b[0m\u001b[0;34m:\u001b[0m\u001b[0;34m\u001b[0m\u001b[0;34m\u001b[0m\u001b[0m\n\u001b[0;32m--> 150\u001b[0;31m       \u001b[0;32mreturn\u001b[0m \u001b[0mfn\u001b[0m\u001b[0;34m(\u001b[0m\u001b[0;34m*\u001b[0m\u001b[0margs\u001b[0m\u001b[0;34m,\u001b[0m \u001b[0;34m**\u001b[0m\u001b[0mkwargs\u001b[0m\u001b[0;34m)\u001b[0m\u001b[0;34m\u001b[0m\u001b[0;34m\u001b[0m\u001b[0m\n\u001b[0m\u001b[1;32m    151\u001b[0m     \u001b[0;32mexcept\u001b[0m \u001b[0mException\u001b[0m \u001b[0;32mas\u001b[0m \u001b[0me\u001b[0m\u001b[0;34m:\u001b[0m\u001b[0;34m\u001b[0m\u001b[0;34m\u001b[0m\u001b[0m\n",
            "\u001b[0;32m/usr/local/lib/python3.11/dist-packages/tensorflow/python/util/dispatch.py\u001b[0m in \u001b[0;36mop_dispatch_handler\u001b[0;34m(*args, **kwargs)\u001b[0m\n\u001b[1;32m   1259\u001b[0m       \u001b[0;32mtry\u001b[0m\u001b[0;34m:\u001b[0m\u001b[0;34m\u001b[0m\u001b[0;34m\u001b[0m\u001b[0m\n\u001b[0;32m-> 1260\u001b[0;31m         \u001b[0;32mreturn\u001b[0m \u001b[0mdispatch_target\u001b[0m\u001b[0;34m(\u001b[0m\u001b[0;34m*\u001b[0m\u001b[0margs\u001b[0m\u001b[0;34m,\u001b[0m \u001b[0;34m**\u001b[0m\u001b[0mkwargs\u001b[0m\u001b[0;34m)\u001b[0m\u001b[0;34m\u001b[0m\u001b[0;34m\u001b[0m\u001b[0m\n\u001b[0m\u001b[1;32m   1261\u001b[0m       \u001b[0;32mexcept\u001b[0m \u001b[0;34m(\u001b[0m\u001b[0mTypeError\u001b[0m\u001b[0;34m,\u001b[0m \u001b[0mValueError\u001b[0m\u001b[0;34m)\u001b[0m\u001b[0;34m:\u001b[0m\u001b[0;34m\u001b[0m\u001b[0;34m\u001b[0m\u001b[0m\n",
            "\u001b[0;32m/usr/local/lib/python3.11/dist-packages/tensorflow/python/ops/math_ops.py\u001b[0m in \u001b[0;36mreduce_prod\u001b[0;34m(input_tensor, axis, keepdims, name)\u001b[0m\n\u001b[1;32m   2734\u001b[0m       \u001b[0mkeepdims\u001b[0m\u001b[0;34m,\u001b[0m \u001b[0maxis\u001b[0m\u001b[0;34m,\u001b[0m\u001b[0;34m\u001b[0m\u001b[0;34m\u001b[0m\u001b[0m\n\u001b[0;32m-> 2735\u001b[0;31m       gen_math_ops.prod(\n\u001b[0m\u001b[1;32m   2736\u001b[0m           \u001b[0minput_tensor\u001b[0m\u001b[0;34m,\u001b[0m \u001b[0m_ReductionDims\u001b[0m\u001b[0;34m(\u001b[0m\u001b[0minput_tensor\u001b[0m\u001b[0;34m,\u001b[0m \u001b[0maxis\u001b[0m\u001b[0;34m)\u001b[0m\u001b[0;34m,\u001b[0m \u001b[0mkeepdims\u001b[0m\u001b[0;34m,\u001b[0m\u001b[0;34m\u001b[0m\u001b[0;34m\u001b[0m\u001b[0m\n",
            "\u001b[0;32m/usr/local/lib/python3.11/dist-packages/tensorflow/python/ops/gen_math_ops.py\u001b[0m in \u001b[0;36mprod\u001b[0;34m(input, axis, keep_dims, name)\u001b[0m\n\u001b[1;32m   7425\u001b[0m     \u001b[0;32mtry\u001b[0m\u001b[0;34m:\u001b[0m\u001b[0;34m\u001b[0m\u001b[0;34m\u001b[0m\u001b[0m\n\u001b[0;32m-> 7426\u001b[0;31m       _result = pywrap_tfe.TFE_Py_FastPathExecute(\n\u001b[0m\u001b[1;32m   7427\u001b[0m         _ctx, \"Prod\", name, input, axis, \"keep_dims\", keep_dims)\n",
            "\u001b[0;31mKeyboardInterrupt\u001b[0m: ",
            "\nDuring handling of the above exception, another exception occurred:\n",
            "\u001b[0;31mKeyboardInterrupt\u001b[0m                         Traceback (most recent call last)",
            "\u001b[0;32m/usr/local/lib/python3.11/dist-packages/IPython/core/interactiveshell.py\u001b[0m in \u001b[0;36mrun_code\u001b[0;34m(self, code_obj, result, async_)\u001b[0m\n\u001b[1;32m   3572\u001b[0m         \u001b[0;32mexcept\u001b[0m\u001b[0;34m:\u001b[0m\u001b[0;34m\u001b[0m\u001b[0;34m\u001b[0m\u001b[0m\n\u001b[1;32m   3573\u001b[0m             \u001b[0;32mif\u001b[0m \u001b[0mresult\u001b[0m \u001b[0;32mis\u001b[0m \u001b[0;32mnot\u001b[0m \u001b[0;32mNone\u001b[0m\u001b[0;34m:\u001b[0m\u001b[0;34m\u001b[0m\u001b[0;34m\u001b[0m\u001b[0m\n\u001b[0;32m-> 3574\u001b[0;31m                 \u001b[0mresult\u001b[0m\u001b[0;34m.\u001b[0m\u001b[0merror_in_exec\u001b[0m \u001b[0;34m=\u001b[0m \u001b[0msys\u001b[0m\u001b[0;34m.\u001b[0m\u001b[0mexc_info\u001b[0m\u001b[0;34m(\u001b[0m\u001b[0;34m)\u001b[0m\u001b[0;34m[\u001b[0m\u001b[0;36m1\u001b[0m\u001b[0;34m]\u001b[0m\u001b[0;34m\u001b[0m\u001b[0;34m\u001b[0m\u001b[0m\n\u001b[0m\u001b[1;32m   3575\u001b[0m             \u001b[0mself\u001b[0m\u001b[0;34m.\u001b[0m\u001b[0mshowtraceback\u001b[0m\u001b[0;34m(\u001b[0m\u001b[0mrunning_compiled_code\u001b[0m\u001b[0;34m=\u001b[0m\u001b[0;32mTrue\u001b[0m\u001b[0;34m)\u001b[0m\u001b[0;34m\u001b[0m\u001b[0;34m\u001b[0m\u001b[0m\n\u001b[1;32m   3576\u001b[0m         \u001b[0;32melse\u001b[0m\u001b[0;34m:\u001b[0m\u001b[0;34m\u001b[0m\u001b[0;34m\u001b[0m\u001b[0m\n",
            "\u001b[0;31mKeyboardInterrupt\u001b[0m: "
          ]
        }
      ]
    },
    {
      "cell_type": "code",
      "source": [
        "model.save('decoder_transformer_model.keras')"
      ],
      "metadata": {
        "id": "c0Xgt6ZU2QAU"
      },
      "id": "c0Xgt6ZU2QAU",
      "execution_count": null,
      "outputs": []
    },
    {
      "cell_type": "code",
      "source": [
        "# model = tf.keras.models.load_model('model.keras')"
      ],
      "metadata": {
        "id": "ApN5FLFUAY6K"
      },
      "id": "ApN5FLFUAY6K",
      "execution_count": null,
      "outputs": []
    },
    {
      "cell_type": "code",
      "source": [
        "import numpy as np\n",
        "def generate(start_string, character_name, max_generate_length):\n",
        "    if character_name not in speaker_to_index:\n",
        "        speaker_idx = 0\n",
        "    else:\n",
        "        speaker_idx = speaker_to_index[character_name]\n",
        "\n",
        "    speaker_id_tensor = tf.constant([speaker_idx], dtype=tf.int32)\n",
        "    input_tokens = sentence_to_token(start_string).ids\n",
        "    generated_sequence_ids = list(input_tokens)\n",
        "    full_output_ids = list(generated_sequence_ids)\n",
        "\n",
        "    for _ in range(max_generate_length):\n",
        "        current_input_ids = list(full_output_ids)\n",
        "        if len(current_input_ids) >= max_seq:\n",
        "            current_input_ids = current_input_ids[-(max_seq - 1):]\n",
        "\n",
        "        current_tokens_tensor = tf.constant([current_input_ids], dtype=tf.int32)\n",
        "        padding_mask = create_padding_mask(current_tokens_tensor)\n",
        "\n",
        "        predictions = model(\n",
        "            current_tokens_tensor,\n",
        "            speaker_id_tensor,\n",
        "            attention_mask=padding_mask,\n",
        "            training=False\n",
        "        )\n",
        "\n",
        "        predicted_logits_for_next_token = predictions[:, -1, :]\n",
        "        predicted_id = tf.random.categorical(predicted_logits_for_next_token / 0.9, num_samples=1).numpy()[0][0]\n",
        "        full_output_ids.append(predicted_id)\n",
        "\n",
        "    final_sentence = token_to_sentence(full_output_ids)\n",
        "    return final_sentence.strip()\n"
      ],
      "metadata": {
        "id": "wJJoO8tLx_Rf"
      },
      "id": "wJJoO8tLx_Rf",
      "execution_count": 61,
      "outputs": []
    },
    {
      "cell_type": "code",
      "source": [
        "speaker = \"Phoebe\"\n",
        "generated_line = generate(\"Hi \", speaker , max_generate_length=30)\n",
        "print(f\"{speaker}: {generated_line}\")"
      ],
      "metadata": {
        "id": "SWxsbuUR1YN_",
        "colab": {
          "base_uri": "https://localhost:8080/"
        },
        "outputId": "8d94f1e7-30ea-4c39-d552-6ff0ecaddb7f"
      },
      "id": "SWxsbuUR1YN_",
      "execution_count": 62,
      "outputs": [
        {
          "output_type": "stream",
          "name": "stdout",
          "text": [
            "Phoebe: Hi! I, get back!\n"
          ]
        }
      ]
    }
  ],
  "metadata": {
    "kernelspec": {
      "display_name": "Python 3",
      "name": "python3"
    },
    "language_info": {
      "codemirror_mode": {
        "name": "ipython",
        "version": 3
      },
      "file_extension": ".py",
      "mimetype": "text/x-python",
      "name": "python",
      "nbconvert_exporter": "python",
      "pygments_lexer": "ipython3",
      "version": "3.10.11"
    },
    "colab": {
      "provenance": [],
      "gpuType": "T4"
    },
    "accelerator": "GPU"
  },
  "nbformat": 4,
  "nbformat_minor": 5
}